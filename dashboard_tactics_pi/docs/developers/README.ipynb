{
 "cells": [
  {
   "cell_type": "markdown",
   "metadata": {},
   "source": [
    "# Information for developers, contributors and collaborators"
   ]
  },
  {
   "cell_type": "markdown",
   "metadata": {},
   "source": [
    "## Project's situation report February 2020"
   ]
  },
  {
   "cell_type": "markdown",
   "metadata": {},
   "source": [
    ">[Previous report and roadmap after publication of v1.5.11](https://github.com/canne/dashboard_tactics_pi/blob/c7656142b49c6bb38b3d1c681db9b2426f22193a/docs/developers/README.md)"
   ]
  },
  {
   "cell_type": "markdown",
   "metadata": {},
   "source": [
    "v2.0 alpha has made a successful POC (proof of concept) which allows to integrate webpack development within the project, enabling instruments similar but not equivalent to the SignalK full-blown browser based instruments. But despite the limitations of wxWebView and its back-ends, they come very close to make them attractive. InfluxDB 2.0 open source version entered beta phase in the beginning of 2020. OpenCPN has embraced Signal K (finally) and is actively developing a Signal K data interface and an event based distribution of that data to plug-ins."
   ]
  },
  {
   "cell_type": "markdown",
   "metadata": {},
   "source": [
    "One of the main development paradigms of the v1.5.11 was to maintain compatibility with OpenCPN Dashboard - at that time frozen - in order to provide a way to transfer the numerous improvements into the mother project. Currently, OpenCPN project team is implementing Signal K data event based distribution parser directly into the code base from which this project was forked from."
   ]
  },
  {
   "cell_type": "markdown",
   "metadata": {},
   "source": [
    "This project cannot contribute the corrections done for v1.5.11 in Dashboard back to the main project - the overall deviation is now too large. Dashboard's original code base carried over from the Dashboard project will be removed to ease the maintenance effort."
   ]
  },
  {
   "cell_type": "markdown",
   "metadata": {},
   "source": [
    "## v1.5.11 roadmap"
   ]
  },
  {
   "cell_type": "markdown",
   "metadata": {},
   "source": [
    "_v1.5.11_ enters into a minimum maintenance mode which means that only real show-stoppers will be fixed if they concern OpenCPN v5.0. That statement does not concern the upcoming versions of OpenCPN with eventual changes in the plug-in API."
   ]
  },
  {
   "cell_type": "markdown",
   "metadata": {},
   "source": [
    "### v1.5.111 - an i18n version"
   ]
  },
  {
   "cell_type": "markdown",
   "metadata": {},
   "source": [
    "Volunteers are apparently working on providing i18n .po files for the project. Their work will be respected by implementing the pull requests in `pr151` branch and with a publication of eventual v1.5.111 version, and successively v1.5.112, etc. if needed."
   ]
  },
  {
   "cell_type": "markdown",
   "metadata": {},
   "source": [
    "## v1.6"
   ]
  },
  {
   "cell_type": "markdown",
   "metadata": {},
   "source": [
    "From the conclusions above follows that v1.6 hypothesis discussed in the [previous report](https://github.com/canne/dashboard_tactics_pi/blob/c7656142b49c6bb38b3d1c681db9b2426f22193a/docs/developers/README.md) is abandoned and the reserved development branches are deleted."
   ]
  },
  {
   "cell_type": "markdown",
   "metadata": {},
   "source": [
    "## v2.0 alpha (v1.98.101) and onwards"
   ]
  },
  {
   "cell_type": "markdown",
   "metadata": {},
   "source": [
    "Development site's main branch switches to `dev200` branch. `mnt151` branch remains for maintenance work of _v1.5.11_."
   ]
  },
  {
   "cell_type": "markdown",
   "metadata": {},
   "source": [
    "Each part above is divided into its own thread structure, presented by two `git` branches:\n",
    "\n",
    "* Development and testing branch for the project owner(s)\n",
    "* Staging branch for the solicited and unsolicited pull requests"
   ]
  },
  {
   "cell_type": "markdown",
   "metadata": {},
   "source": [
    "> **Pull requests to master branch (trunk) are not accepted until dev200 branch reaches an advanced beta stage** Please submit any PR in these branches, instead:"
   ]
  },
  {
   "cell_type": "markdown",
   "metadata": {},
   "source": [
    "* `pr151` - Staging branch for pull requests for bug fixes in v1.5.11 - **no new features will be accepted in this branch**\n",
    "\n",
    "  * Suitable for small changes like new language files\n",
    "\n",
    "* `pr200` - For those who wish to contribute to new features, even unstable ones in `dev200` R&D branch\n",
    "\n",
    "   * **Free spirit R&D and new ideas goes here**\n",
    "   \n",
    "   * It would be appreciated if the ideas would be presented with some use case, allowing an assembly of a test use case:\n",
    "   \n",
    "     * Please do not get offended if the pull request will not get accepted - this is a hobby project and time is a limited resource ;\n",
    "     \n",
    "     * I'll try to comment back to at least thank you for your ideas!"
   ]
  },
  {
   "cell_type": "markdown",
   "metadata": {},
   "source": [
    ">You may notice occasional _Flying Fish_ branches appear in the repository. They are for not break the development build by some test-only ideas. However, they can be created on simple demand for pull requests not meeting the below requirements of the CI (continuous integration and QA applied in commits and PRs):"
   ]
  },
  {
   "cell_type": "markdown",
   "metadata": {},
   "source": [
    "Common automatic QA requirements (mandatory to pass) for all branches are\n",
    "* [Codacy static code analysis](https://app.codacy.com/manual/petri38-github/dashboard_tactics_pi/dashboard)\n",
    "* [Travis CI for pull requests](https://travis-ci.org/canne/dashboard_tactics_pi)\n",
    "* [AppVeyor CI for Windows build of commits](https://ci.appveyor.com/project/canne/dashboard-tactics-pi)\n",
    "* [Travis CI for Linux and Mac builds of commits](https://travis-ci.org/canne/dashboard_tactics_pi)"
   ]
  },
  {
   "cell_type": "markdown",
   "metadata": {},
   "source": [
    "The below diagram depicts the branch schema starting from this holdpoint and provides a roadmap for future versions - without a time axis due to the lack of that information from the OpenCPN main project."
   ]
  },
  {
   "cell_type": "markdown",
   "metadata": {},
   "source": [
    "![v1.98.103_holdpoint_threads.png](v1.98.103_holdpoint_threads.png) [(zoom)](img/v1.98.103_holdpoint_threads.png)"
   ]
  }
 ],
 "metadata": {
  "kernelspec": {
   "display_name": "Python 3",
   "language": "python",
   "name": "python3"
  },
  "language_info": {
   "codemirror_mode": {
    "name": "ipython",
    "version": 3
   },
   "file_extension": ".py",
   "mimetype": "text/x-python",
   "name": "python",
   "nbconvert_exporter": "python",
   "pygments_lexer": "ipython3",
   "version": "3.7.4"
  }
 },
 "nbformat": 4,
 "nbformat_minor": 4
}

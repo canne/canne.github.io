{
 "cells": [
  {
   "cell_type": "markdown",
   "metadata": {},
   "source": [
    "# Information for developers, contributors and collaborators"
   ]
  },
  {
   "cell_type": "markdown",
   "metadata": {},
   "source": [
    "## v1.5.11 and onwards"
   ]
  },
  {
   "cell_type": "markdown",
   "metadata": {},
   "source": [
    "On release of v1.5.11 in the 30th of November, 2019 the project contained\n",
    "* 37 [closed requirements](https://github.com/canne/dashboard_tactics_pi/issues?q=is%3Aissue+is%3Aclosed+label%3ARequirement+milestone%3Av1.5.11)\n",
    "* 0 [open requirement](https://github.com/canne/dashboard_tactics_pi/issues?q=is%3Aissue+is%3Aclosed+label%3ARequirement+milestone%3Av1.5.11)"
   ]
  },
  {
   "cell_type": "markdown",
   "metadata": {},
   "source": [
    "Starting from this holdpoint **the project enters into long term maintenance phase** for its main product, Dashboard-Tactics plug-in for OpenCPN v5.0."
   ]
  },
  {
   "cell_type": "markdown",
   "metadata": {},
   "source": [
    "The long term maintenance may continue to cover other minor versions of the OpenCPN v5."
   ]
  },
  {
   "cell_type": "markdown",
   "metadata": {},
   "source": [
    "The maintenance patch releases will be numbered v1.5.111, v1.5.112,...,v1.5.119."
   ]
  },
  {
   "cell_type": "markdown",
   "metadata": {},
   "source": [
    "Due to non-existing - or non-published - roadmap for OpenCPN v5 there is no possibility to define or predict additional requirements which could justify the continuous development phase."
   ]
  },
  {
   "cell_type": "markdown",
   "metadata": {},
   "source": [
    "Therefore the project is divided in three parts at this holdpoint:\n",
    "\n",
    "1. **Long term maintenance**\n",
    "2. **R&D based on v1.6 hypothesis**\n",
    "  * Presuming that OpenCPN and plug-in API continues without any major changes or new plug-in supporting data retrieval and process intercommunicatio features are not introduced outside the API\n",
    "  * In this hypothesis, data originating from a NMEA-2000 bus is not available\n",
    "3. **R&D based on v2.0 hypothesis**\n",
    "  * Presuming that OpenCPN and plug-in API evolve moderately in order to provide support for currently undefined data retrieval and process intercommunicatio features outside the API\n",
    "  * In this hypothesis, data originating from a NMEA-2000 bus will be available"
   ]
  },
  {
   "cell_type": "markdown",
   "metadata": {},
   "source": [
    "Each part above is divided into its own thread structure, presented by two `git` branches:\n",
    "\n",
    "* Development and testing branch for the project owner(s)\n",
    "* Staging branch for the solicited and unsolicited pull requests"
   ]
  },
  {
   "cell_type": "markdown",
   "metadata": {},
   "source": [
    "> **Pull requests to master branch (trunk) are, for now, rejected**:"
   ]
  },
  {
   "cell_type": "markdown",
   "metadata": {},
   "source": [
    "* `pr151` - Staging branch for pull requests for bug fixes in v1.5.11 - **no new features will be accepted in this branch**\n",
    "  * Mandatory to be joined with a test use case and a test report, preferably in [canne.testquality.com](https://canne.testquality.com) - other formats accepted, of course\n",
    "* `pr160` - v1.6 hypothesis staging branch for pull requests for major bug fixes changing the functionality or introducing new functions or suggesting major code reorganization\n",
    "   * Mapping to an existing requirement (see above) or proposal for a new requirement is mandatory for any new feature proposed\n",
    "   * Test use case and test report are optional but welcome\n",
    "* `pr200` - v2.0 hypothesis staging branch for R&D any guessed or announced data retrieval and process intercommunication feature from OpenCPN or over it\n",
    "   * **Free spirit R&D and new ideas goes here**\n",
    "   * It would be appreciated that the ideas, however would become with some use case allowing the assembly of a test use case in the stage area if the pull request is accepted:\n",
    "   * please do not get offended if the pull request will not get accepted - comments not guaranteed but an attempt will be made"
   ]
  },
  {
   "cell_type": "markdown",
   "metadata": {},
   "source": [
    ">_Flying Fish_ branches can be created on simple demand for pull requests not meeting the above, or even below requirements:"
   ]
  },
  {
   "cell_type": "markdown",
   "metadata": {},
   "source": [
    "Common automatic QA requirements (mandatory to pass) for all branches are\n",
    "* [Codacy static code analysis](https://app.codacy.com/manual/petri38-github/dashboard_tactics_pi/dashboard)\n",
    "* [Travis CI for pull requests](https://travis-ci.org/canne/dashboard_tactics_pi)\n",
    "* [AppVeyor CI for Windows build](https://ci.appveyor.com/project/canne/dashboard-tactics-pi)\n",
    "* [Travis CI for Linux and Mac builds](https://travis-ci.org/canne/dashboard_tactics_pi)"
   ]
  },
  {
   "cell_type": "markdown",
   "metadata": {},
   "source": [
    "The below diagram depicts the branch schema starting from this holdpoint and provides a roadmap for future versions - without a time axis due to the lack of that information from the OpenCPN main project."
   ]
  },
  {
   "cell_type": "markdown",
   "metadata": {},
   "source": [
    "![v1.5.11_holdpoint_threads.png](v1.5.11_holdpoint_threads.png) [(zoom)](img/v1.5.11_holdpoint_threads.png)"
   ]
  },
  {
   "cell_type": "markdown",
   "metadata": {},
   "source": []
  }
 ],
 "metadata": {
  "kernelspec": {
   "display_name": "Python 3",
   "language": "python",
   "name": "python3"
  },
  "language_info": {
   "codemirror_mode": {
    "name": "ipython",
    "version": 3
   },
   "file_extension": ".py",
   "mimetype": "text/x-python",
   "name": "python",
   "nbconvert_exporter": "python",
   "pygments_lexer": "ipython3",
   "version": "3.7.4"
  }
 },
 "nbformat": 4,
 "nbformat_minor": 4
}

{
 "cells": [
  {
   "cell_type": "markdown",
   "metadata": {},
   "source": [
    "# Comparison of timestamps in three alternative NMEA data paths"
   ]
  },
  {
   "cell_type": "markdown",
   "metadata": {},
   "source": [
    "### Windows 10 - OpenCPN v5.0.0 - Signal K v1.17.0 - DashT v.0.5.2 "
   ]
  },
  {
   "cell_type": "markdown",
   "metadata": {},
   "source": [
    "We observe a five minute sampling period stored in InfluxDB database for each of the use case for single value of Apparent Wind Angle:\n",
    "\n",
    "1. data via Signal K delta TCP channel with Signal K timestamps at its own reception\n",
    "\n",
    "2. data via Signal K to NMEA-0183 via TCP channel timestamps at reception at the InfluxDB instruments\n",
    "\n",
    "3. data directly from USB to OpenCPN\n",
    "\n",
    "In all above cases the USB is set to 115200 baud at reception on Win10 (Surface 3 i7) running OpenCPN v5.0.0. Data is originated from Raymarine SeaTalk (4800 baud) and converted to USB in MiniPlex II multiplexer - about 40 values per second are transmitted through this channel but only Apparent Wind Angle timestamp behaviour is observed."
   ]
  },
  {
   "cell_type": "markdown",
   "metadata": {},
   "source": [
    "![2019-10-05_224016_3x_data_series_overview.png](2019-10-05_224016_3x_data_series_overview.png) [(zoom)](img/2019-10-05_224016_3x_data_series_overview.png)"
   ]
  },
  {
   "cell_type": "code",
   "execution_count": 1,
   "metadata": {},
   "outputs": [],
   "source": [
    "import numpy as np\n",
    "import pandas as pd"
   ]
  },
  {
   "cell_type": "markdown",
   "metadata": {},
   "source": [
    "## 1. Data via Signal K delta TCP channel"
   ]
  },
  {
   "cell_type": "markdown",
   "metadata": {},
   "source": [
    "![2019-10-05_224308_SignalK_delta_zoom.png](2019-10-05_224308_SignalK_delta_zoom.png) [(zoom)](img/2019-10-05_224308_SignalK_delta_zoom.png)"
   ]
  },
  {
   "cell_type": "code",
   "execution_count": 2,
   "metadata": {},
   "outputs": [],
   "source": [
    "df = pd.read_csv(\"2019-10-05_224308_SignalK_delta_zoom.csv\", sep=',', header=3)"
   ]
  },
  {
   "cell_type": "code",
   "execution_count": 3,
   "metadata": {},
   "outputs": [
    {
     "data": {
      "text/html": [
       "<div>\n",
       "<style scoped>\n",
       "    .dataframe tbody tr th:only-of-type {\n",
       "        vertical-align: middle;\n",
       "    }\n",
       "\n",
       "    .dataframe tbody tr th {\n",
       "        vertical-align: top;\n",
       "    }\n",
       "\n",
       "    .dataframe thead th {\n",
       "        text-align: right;\n",
       "    }\n",
       "</style>\n",
       "<table border=\"1\" class=\"dataframe\">\n",
       "  <thead>\n",
       "    <tr style=\"text-align: right;\">\n",
       "      <th></th>\n",
       "      <th>Unnamed: 0</th>\n",
       "      <th>result</th>\n",
       "      <th>table</th>\n",
       "      <th>_start</th>\n",
       "      <th>_stop</th>\n",
       "      <th>_time</th>\n",
       "      <th>_value</th>\n",
       "      <th>_field</th>\n",
       "      <th>_measurement</th>\n",
       "      <th>prop1</th>\n",
       "    </tr>\n",
       "  </thead>\n",
       "  <tbody>\n",
       "    <tr>\n",
       "      <td>0</td>\n",
       "      <td>NaN</td>\n",
       "      <td>NaN</td>\n",
       "      <td>0</td>\n",
       "      <td>2019-10-05T20:06:00Z</td>\n",
       "      <td>2019-10-05T20:11:00Z</td>\n",
       "      <td>2019-10-05T20:06:00.969Z</td>\n",
       "      <td>16.0</td>\n",
       "      <td>angleApparent</td>\n",
       "      <td>environment</td>\n",
       "      <td>wind</td>\n",
       "    </tr>\n",
       "    <tr>\n",
       "      <td>1</td>\n",
       "      <td>NaN</td>\n",
       "      <td>NaN</td>\n",
       "      <td>0</td>\n",
       "      <td>2019-10-05T20:06:00Z</td>\n",
       "      <td>2019-10-05T20:11:00Z</td>\n",
       "      <td>2019-10-05T20:06:02.904Z</td>\n",
       "      <td>17.0</td>\n",
       "      <td>angleApparent</td>\n",
       "      <td>environment</td>\n",
       "      <td>wind</td>\n",
       "    </tr>\n",
       "    <tr>\n",
       "      <td>2</td>\n",
       "      <td>NaN</td>\n",
       "      <td>NaN</td>\n",
       "      <td>0</td>\n",
       "      <td>2019-10-05T20:06:00Z</td>\n",
       "      <td>2019-10-05T20:11:00Z</td>\n",
       "      <td>2019-10-05T20:06:04.841Z</td>\n",
       "      <td>23.0</td>\n",
       "      <td>angleApparent</td>\n",
       "      <td>environment</td>\n",
       "      <td>wind</td>\n",
       "    </tr>\n",
       "    <tr>\n",
       "      <td>3</td>\n",
       "      <td>NaN</td>\n",
       "      <td>NaN</td>\n",
       "      <td>0</td>\n",
       "      <td>2019-10-05T20:06:00Z</td>\n",
       "      <td>2019-10-05T20:11:00Z</td>\n",
       "      <td>2019-10-05T20:06:06.775Z</td>\n",
       "      <td>30.5</td>\n",
       "      <td>angleApparent</td>\n",
       "      <td>environment</td>\n",
       "      <td>wind</td>\n",
       "    </tr>\n",
       "    <tr>\n",
       "      <td>4</td>\n",
       "      <td>NaN</td>\n",
       "      <td>NaN</td>\n",
       "      <td>0</td>\n",
       "      <td>2019-10-05T20:06:00Z</td>\n",
       "      <td>2019-10-05T20:11:00Z</td>\n",
       "      <td>2019-10-05T20:06:08.71Z</td>\n",
       "      <td>31.0</td>\n",
       "      <td>angleApparent</td>\n",
       "      <td>environment</td>\n",
       "      <td>wind</td>\n",
       "    </tr>\n",
       "  </tbody>\n",
       "</table>\n",
       "</div>"
      ],
      "text/plain": [
       "   Unnamed: 0  result  table                _start                 _stop  \\\n",
       "0         NaN     NaN      0  2019-10-05T20:06:00Z  2019-10-05T20:11:00Z   \n",
       "1         NaN     NaN      0  2019-10-05T20:06:00Z  2019-10-05T20:11:00Z   \n",
       "2         NaN     NaN      0  2019-10-05T20:06:00Z  2019-10-05T20:11:00Z   \n",
       "3         NaN     NaN      0  2019-10-05T20:06:00Z  2019-10-05T20:11:00Z   \n",
       "4         NaN     NaN      0  2019-10-05T20:06:00Z  2019-10-05T20:11:00Z   \n",
       "\n",
       "                      _time  _value         _field _measurement prop1  \n",
       "0  2019-10-05T20:06:00.969Z    16.0  angleApparent  environment  wind  \n",
       "1  2019-10-05T20:06:02.904Z    17.0  angleApparent  environment  wind  \n",
       "2  2019-10-05T20:06:04.841Z    23.0  angleApparent  environment  wind  \n",
       "3  2019-10-05T20:06:06.775Z    30.5  angleApparent  environment  wind  \n",
       "4   2019-10-05T20:06:08.71Z    31.0  angleApparent  environment  wind  "
      ]
     },
     "execution_count": 3,
     "metadata": {},
     "output_type": "execute_result"
    }
   ],
   "source": [
    "df.head()"
   ]
  },
  {
   "cell_type": "code",
   "execution_count": 4,
   "metadata": {},
   "outputs": [
    {
     "data": {
      "text/plain": [
       "count    158.000000\n",
       "mean      16.382911\n",
       "std        8.111321\n",
       "min        0.500000\n",
       "25%        9.500000\n",
       "50%       17.250000\n",
       "75%       23.000000\n",
       "max       34.000000\n",
       "Name: _value, dtype: float64"
      ]
     },
     "execution_count": 4,
     "metadata": {},
     "output_type": "execute_result"
    }
   ],
   "source": [
    "df._value.describe()"
   ]
  },
  {
   "cell_type": "code",
   "execution_count": 5,
   "metadata": {},
   "outputs": [],
   "source": [
    "df1 = pd.to_datetime(df['_time'])"
   ]
  },
  {
   "cell_type": "code",
   "execution_count": 6,
   "metadata": {},
   "outputs": [
    {
     "data": {
      "text/plain": [
       "count                                  158\n",
       "unique                                 158\n",
       "top       2019-10-05 20:09:49.403000+00:00\n",
       "freq                                     1\n",
       "first     2019-10-05 20:06:00.969000+00:00\n",
       "last      2019-10-05 20:10:58.127000+00:00\n",
       "Name: _time, dtype: object"
      ]
     },
     "execution_count": 6,
     "metadata": {},
     "output_type": "execute_result"
    }
   ],
   "source": [
    "df1.describe()"
   ]
  },
  {
   "cell_type": "code",
   "execution_count": 7,
   "metadata": {},
   "outputs": [],
   "source": [
    "df2 = df1.astype(np.int64).div(1e6)"
   ]
  },
  {
   "cell_type": "code",
   "execution_count": 8,
   "metadata": {},
   "outputs": [],
   "source": [
    "df3 = df2.diff()"
   ]
  },
  {
   "cell_type": "code",
   "execution_count": 9,
   "metadata": {},
   "outputs": [
    {
     "data": {
      "text/plain": [
       "count     157.000000\n",
       "mean     1892.726115\n",
       "std       188.331733\n",
       "min      1001.000000\n",
       "25%      1925.000000\n",
       "50%      1935.000244\n",
       "75%      1940.000000\n",
       "max      2058.000244\n",
       "Name: _time, dtype: float64"
      ]
     },
     "execution_count": 9,
     "metadata": {},
     "output_type": "execute_result"
    }
   ],
   "source": [
    "df3.describe()"
   ]
  },
  {
   "cell_type": "markdown",
   "metadata": {},
   "source": [
    "## 2. Data via Signal K to NMEA-0183 converter TCP channel"
   ]
  },
  {
   "cell_type": "markdown",
   "metadata": {},
   "source": [
    "![2019-10-05_224509_SignalK_NMEA_TCP_zoom.png\"](2019-10-05_224509_SignalK_NMEA_TCP_zoom.png) [(zoom)](img/2019-10-05_224509_SignalK_NMEA_TCP_zoom.png)"
   ]
  },
  {
   "cell_type": "code",
   "execution_count": 10,
   "metadata": {},
   "outputs": [],
   "source": [
    "nf = pd.read_csv(\"2019-10-05_224509_SignalK_NMEA_TCP_zoom.csv\", sep=',', header=3)"
   ]
  },
  {
   "cell_type": "code",
   "execution_count": 11,
   "metadata": {},
   "outputs": [
    {
     "data": {
      "text/html": [
       "<div>\n",
       "<style scoped>\n",
       "    .dataframe tbody tr th:only-of-type {\n",
       "        vertical-align: middle;\n",
       "    }\n",
       "\n",
       "    .dataframe tbody tr th {\n",
       "        vertical-align: top;\n",
       "    }\n",
       "\n",
       "    .dataframe thead th {\n",
       "        text-align: right;\n",
       "    }\n",
       "</style>\n",
       "<table border=\"1\" class=\"dataframe\">\n",
       "  <thead>\n",
       "    <tr style=\"text-align: right;\">\n",
       "      <th></th>\n",
       "      <th>Unnamed: 0</th>\n",
       "      <th>result</th>\n",
       "      <th>table</th>\n",
       "      <th>_start</th>\n",
       "      <th>_stop</th>\n",
       "      <th>_time</th>\n",
       "      <th>_value</th>\n",
       "      <th>_field</th>\n",
       "      <th>_measurement</th>\n",
       "      <th>prop1</th>\n",
       "    </tr>\n",
       "  </thead>\n",
       "  <tbody>\n",
       "    <tr>\n",
       "      <td>0</td>\n",
       "      <td>NaN</td>\n",
       "      <td>NaN</td>\n",
       "      <td>0</td>\n",
       "      <td>2019-10-05T20:16:00Z</td>\n",
       "      <td>2019-10-05T20:21:00Z</td>\n",
       "      <td>2019-10-05T20:16:01.101Z</td>\n",
       "      <td>1.5</td>\n",
       "      <td>angleApparent</td>\n",
       "      <td>environment</td>\n",
       "      <td>wind</td>\n",
       "    </tr>\n",
       "    <tr>\n",
       "      <td>1</td>\n",
       "      <td>NaN</td>\n",
       "      <td>NaN</td>\n",
       "      <td>0</td>\n",
       "      <td>2019-10-05T20:16:00Z</td>\n",
       "      <td>2019-10-05T20:21:00Z</td>\n",
       "      <td>2019-10-05T20:16:03.041Z</td>\n",
       "      <td>13.5</td>\n",
       "      <td>angleApparent</td>\n",
       "      <td>environment</td>\n",
       "      <td>wind</td>\n",
       "    </tr>\n",
       "    <tr>\n",
       "      <td>2</td>\n",
       "      <td>NaN</td>\n",
       "      <td>NaN</td>\n",
       "      <td>0</td>\n",
       "      <td>2019-10-05T20:16:00Z</td>\n",
       "      <td>2019-10-05T20:21:00Z</td>\n",
       "      <td>2019-10-05T20:16:04.981Z</td>\n",
       "      <td>0.5</td>\n",
       "      <td>angleApparent</td>\n",
       "      <td>environment</td>\n",
       "      <td>wind</td>\n",
       "    </tr>\n",
       "    <tr>\n",
       "      <td>3</td>\n",
       "      <td>NaN</td>\n",
       "      <td>NaN</td>\n",
       "      <td>0</td>\n",
       "      <td>2019-10-05T20:16:00Z</td>\n",
       "      <td>2019-10-05T20:21:00Z</td>\n",
       "      <td>2019-10-05T20:16:06.015Z</td>\n",
       "      <td>15.0</td>\n",
       "      <td>angleApparent</td>\n",
       "      <td>environment</td>\n",
       "      <td>wind</td>\n",
       "    </tr>\n",
       "    <tr>\n",
       "      <td>4</td>\n",
       "      <td>NaN</td>\n",
       "      <td>NaN</td>\n",
       "      <td>0</td>\n",
       "      <td>2019-10-05T20:16:00Z</td>\n",
       "      <td>2019-10-05T20:21:00Z</td>\n",
       "      <td>2019-10-05T20:16:07.881Z</td>\n",
       "      <td>7.0</td>\n",
       "      <td>angleApparent</td>\n",
       "      <td>environment</td>\n",
       "      <td>wind</td>\n",
       "    </tr>\n",
       "  </tbody>\n",
       "</table>\n",
       "</div>"
      ],
      "text/plain": [
       "   Unnamed: 0  result  table                _start                 _stop  \\\n",
       "0         NaN     NaN      0  2019-10-05T20:16:00Z  2019-10-05T20:21:00Z   \n",
       "1         NaN     NaN      0  2019-10-05T20:16:00Z  2019-10-05T20:21:00Z   \n",
       "2         NaN     NaN      0  2019-10-05T20:16:00Z  2019-10-05T20:21:00Z   \n",
       "3         NaN     NaN      0  2019-10-05T20:16:00Z  2019-10-05T20:21:00Z   \n",
       "4         NaN     NaN      0  2019-10-05T20:16:00Z  2019-10-05T20:21:00Z   \n",
       "\n",
       "                      _time  _value         _field _measurement prop1  \n",
       "0  2019-10-05T20:16:01.101Z     1.5  angleApparent  environment  wind  \n",
       "1  2019-10-05T20:16:03.041Z    13.5  angleApparent  environment  wind  \n",
       "2  2019-10-05T20:16:04.981Z     0.5  angleApparent  environment  wind  \n",
       "3  2019-10-05T20:16:06.015Z    15.0  angleApparent  environment  wind  \n",
       "4  2019-10-05T20:16:07.881Z     7.0  angleApparent  environment  wind  "
      ]
     },
     "execution_count": 11,
     "metadata": {},
     "output_type": "execute_result"
    }
   ],
   "source": [
    "nf.head()"
   ]
  },
  {
   "cell_type": "code",
   "execution_count": 12,
   "metadata": {},
   "outputs": [
    {
     "data": {
      "text/plain": [
       "count    159.000000\n",
       "mean      10.710692\n",
       "std        8.320781\n",
       "min        0.000000\n",
       "25%        3.500000\n",
       "50%        9.500000\n",
       "75%       15.000000\n",
       "max       52.000000\n",
       "Name: _value, dtype: float64"
      ]
     },
     "execution_count": 12,
     "metadata": {},
     "output_type": "execute_result"
    }
   ],
   "source": [
    "nf._value.describe()"
   ]
  },
  {
   "cell_type": "code",
   "execution_count": 13,
   "metadata": {},
   "outputs": [],
   "source": [
    "nf1 = pd.to_datetime(nf['_time'])"
   ]
  },
  {
   "cell_type": "code",
   "execution_count": 14,
   "metadata": {},
   "outputs": [
    {
     "data": {
      "text/plain": [
       "count                                  159\n",
       "unique                                 159\n",
       "top       2019-10-05 20:16:01.101000+00:00\n",
       "freq                                     1\n",
       "first     2019-10-05 20:16:01.101000+00:00\n",
       "last      2019-10-05 20:20:58.255000+00:00\n",
       "Name: _time, dtype: object"
      ]
     },
     "execution_count": 14,
     "metadata": {},
     "output_type": "execute_result"
    }
   ],
   "source": [
    "nf1.describe()"
   ]
  },
  {
   "cell_type": "code",
   "execution_count": 15,
   "metadata": {},
   "outputs": [],
   "source": [
    "nf2 = nf1.astype(np.int64).div(1e6)"
   ]
  },
  {
   "cell_type": "code",
   "execution_count": 16,
   "metadata": {},
   "outputs": [],
   "source": [
    "nf3 = nf2.diff()"
   ]
  },
  {
   "cell_type": "code",
   "execution_count": 17,
   "metadata": {},
   "outputs": [
    {
     "data": {
      "text/plain": [
       "count     158.000000\n",
       "mean     1880.721519\n",
       "std       212.353998\n",
       "min      1004.999756\n",
       "25%      1917.500000\n",
       "50%      1935.000000\n",
       "75%      1944.000000\n",
       "max      2046.999756\n",
       "Name: _time, dtype: float64"
      ]
     },
     "execution_count": 17,
     "metadata": {},
     "output_type": "execute_result"
    }
   ],
   "source": [
    "nf3.describe()"
   ]
  },
  {
   "cell_type": "markdown",
   "metadata": {},
   "source": [
    "## 3. Data without Signal K directly from USB"
   ]
  },
  {
   "cell_type": "markdown",
   "metadata": {},
   "source": [
    "![2019-10-05_224657_USB_to_O_zoom.png](2019-10-05_224657_USB_to_O_zoom.png) [(zoom)](img/2019-10-05_224657_USB_to_O_zoom.png)"
   ]
  },
  {
   "cell_type": "code",
   "execution_count": 18,
   "metadata": {},
   "outputs": [],
   "source": [
    "of = pd.read_csv(\"2019-10-05_224657_USB_to_O_zoom.csv\", sep=',', header=3)"
   ]
  },
  {
   "cell_type": "code",
   "execution_count": 19,
   "metadata": {},
   "outputs": [
    {
     "data": {
      "text/html": [
       "<div>\n",
       "<style scoped>\n",
       "    .dataframe tbody tr th:only-of-type {\n",
       "        vertical-align: middle;\n",
       "    }\n",
       "\n",
       "    .dataframe tbody tr th {\n",
       "        vertical-align: top;\n",
       "    }\n",
       "\n",
       "    .dataframe thead th {\n",
       "        text-align: right;\n",
       "    }\n",
       "</style>\n",
       "<table border=\"1\" class=\"dataframe\">\n",
       "  <thead>\n",
       "    <tr style=\"text-align: right;\">\n",
       "      <th></th>\n",
       "      <th>Unnamed: 0</th>\n",
       "      <th>result</th>\n",
       "      <th>table</th>\n",
       "      <th>_start</th>\n",
       "      <th>_stop</th>\n",
       "      <th>_time</th>\n",
       "      <th>_value</th>\n",
       "      <th>_field</th>\n",
       "      <th>_measurement</th>\n",
       "      <th>prop1</th>\n",
       "    </tr>\n",
       "  </thead>\n",
       "  <tbody>\n",
       "    <tr>\n",
       "      <td>0</td>\n",
       "      <td>NaN</td>\n",
       "      <td>NaN</td>\n",
       "      <td>0</td>\n",
       "      <td>2019-10-05T20:25:00Z</td>\n",
       "      <td>2019-10-05T20:30:00Z</td>\n",
       "      <td>2019-10-05T20:25:00.249Z</td>\n",
       "      <td>3.5</td>\n",
       "      <td>angleApparent</td>\n",
       "      <td>environment</td>\n",
       "      <td>wind</td>\n",
       "    </tr>\n",
       "    <tr>\n",
       "      <td>1</td>\n",
       "      <td>NaN</td>\n",
       "      <td>NaN</td>\n",
       "      <td>0</td>\n",
       "      <td>2019-10-05T20:25:00Z</td>\n",
       "      <td>2019-10-05T20:30:00Z</td>\n",
       "      <td>2019-10-05T20:25:02.189Z</td>\n",
       "      <td>8.5</td>\n",
       "      <td>angleApparent</td>\n",
       "      <td>environment</td>\n",
       "      <td>wind</td>\n",
       "    </tr>\n",
       "    <tr>\n",
       "      <td>2</td>\n",
       "      <td>NaN</td>\n",
       "      <td>NaN</td>\n",
       "      <td>0</td>\n",
       "      <td>2019-10-05T20:25:00Z</td>\n",
       "      <td>2019-10-05T20:30:00Z</td>\n",
       "      <td>2019-10-05T20:25:04.106Z</td>\n",
       "      <td>9.0</td>\n",
       "      <td>angleApparent</td>\n",
       "      <td>environment</td>\n",
       "      <td>wind</td>\n",
       "    </tr>\n",
       "    <tr>\n",
       "      <td>3</td>\n",
       "      <td>NaN</td>\n",
       "      <td>NaN</td>\n",
       "      <td>0</td>\n",
       "      <td>2019-10-05T20:25:00Z</td>\n",
       "      <td>2019-10-05T20:30:00Z</td>\n",
       "      <td>2019-10-05T20:25:06.051Z</td>\n",
       "      <td>17.0</td>\n",
       "      <td>angleApparent</td>\n",
       "      <td>environment</td>\n",
       "      <td>wind</td>\n",
       "    </tr>\n",
       "    <tr>\n",
       "      <td>4</td>\n",
       "      <td>NaN</td>\n",
       "      <td>NaN</td>\n",
       "      <td>0</td>\n",
       "      <td>2019-10-05T20:25:00Z</td>\n",
       "      <td>2019-10-05T20:30:00Z</td>\n",
       "      <td>2019-10-05T20:25:07.99Z</td>\n",
       "      <td>24.0</td>\n",
       "      <td>angleApparent</td>\n",
       "      <td>environment</td>\n",
       "      <td>wind</td>\n",
       "    </tr>\n",
       "  </tbody>\n",
       "</table>\n",
       "</div>"
      ],
      "text/plain": [
       "   Unnamed: 0  result  table                _start                 _stop  \\\n",
       "0         NaN     NaN      0  2019-10-05T20:25:00Z  2019-10-05T20:30:00Z   \n",
       "1         NaN     NaN      0  2019-10-05T20:25:00Z  2019-10-05T20:30:00Z   \n",
       "2         NaN     NaN      0  2019-10-05T20:25:00Z  2019-10-05T20:30:00Z   \n",
       "3         NaN     NaN      0  2019-10-05T20:25:00Z  2019-10-05T20:30:00Z   \n",
       "4         NaN     NaN      0  2019-10-05T20:25:00Z  2019-10-05T20:30:00Z   \n",
       "\n",
       "                      _time  _value         _field _measurement prop1  \n",
       "0  2019-10-05T20:25:00.249Z     3.5  angleApparent  environment  wind  \n",
       "1  2019-10-05T20:25:02.189Z     8.5  angleApparent  environment  wind  \n",
       "2  2019-10-05T20:25:04.106Z     9.0  angleApparent  environment  wind  \n",
       "3  2019-10-05T20:25:06.051Z    17.0  angleApparent  environment  wind  \n",
       "4   2019-10-05T20:25:07.99Z    24.0  angleApparent  environment  wind  "
      ]
     },
     "execution_count": 19,
     "metadata": {},
     "output_type": "execute_result"
    }
   ],
   "source": [
    "of.head()"
   ]
  },
  {
   "cell_type": "code",
   "execution_count": 20,
   "metadata": {},
   "outputs": [
    {
     "data": {
      "text/plain": [
       "count    165.000000\n",
       "mean      18.845455\n",
       "std        8.896015\n",
       "min        0.500000\n",
       "25%       13.500000\n",
       "50%       19.000000\n",
       "75%       24.500000\n",
       "max       49.000000\n",
       "Name: _value, dtype: float64"
      ]
     },
     "execution_count": 20,
     "metadata": {},
     "output_type": "execute_result"
    }
   ],
   "source": [
    "of._value.describe()"
   ]
  },
  {
   "cell_type": "code",
   "execution_count": 21,
   "metadata": {},
   "outputs": [],
   "source": [
    "of1 = pd.to_datetime(of['_time'])"
   ]
  },
  {
   "cell_type": "code",
   "execution_count": 22,
   "metadata": {},
   "outputs": [
    {
     "data": {
      "text/plain": [
       "count                                  165\n",
       "unique                                 165\n",
       "top       2019-10-05 20:25:11.876000+00:00\n",
       "freq                                     1\n",
       "first     2019-10-05 20:25:00.249000+00:00\n",
       "last      2019-10-05 20:29:59.340000+00:00\n",
       "Name: _time, dtype: object"
      ]
     },
     "execution_count": 22,
     "metadata": {},
     "output_type": "execute_result"
    }
   ],
   "source": [
    "of1.describe()"
   ]
  },
  {
   "cell_type": "code",
   "execution_count": 23,
   "metadata": {},
   "outputs": [],
   "source": [
    "of2 = of1.astype(np.int64).div(1e6)"
   ]
  },
  {
   "cell_type": "code",
   "execution_count": 24,
   "metadata": {},
   "outputs": [],
   "source": [
    "of3 = of2.diff()"
   ]
  },
  {
   "cell_type": "code",
   "execution_count": 25,
   "metadata": {},
   "outputs": [
    {
     "data": {
      "text/plain": [
       "count     164.000000\n",
       "mean     1823.725610\n",
       "std       299.438559\n",
       "min      1000.000000\n",
       "25%      1896.000000\n",
       "50%      1931.500122\n",
       "75%      1944.000000\n",
       "max      2757.000244\n",
       "Name: _time, dtype: float64"
      ]
     },
     "execution_count": 25,
     "metadata": {},
     "output_type": "execute_result"
    }
   ],
   "source": [
    "of3.describe()"
   ]
  },
  {
   "cell_type": "markdown",
   "metadata": {},
   "source": [
    "<hr/>"
   ]
  },
  {
   "cell_type": "markdown",
   "metadata": {},
   "source": [
    "## Summary of results"
   ]
  },
  {
   "cell_type": "markdown",
   "metadata": {},
   "source": [
    "| data path | timestamp | standard deviation | maximum time difference |\n",
    "| --------- | --------- | :----------------: | :---------------------: |\n",
    "| 1 Signal K delta | at source | 188 ms | 2058 ms |\n",
    "| 2 Signal K NMEA TCP | at reception | 212 ms | 2047 ms | \n",
    "| 3 USB to OpenCPN | at reception | 299 ms | 2757 ms |"
   ]
  },
  {
   "cell_type": "markdown",
   "metadata": {},
   "source": [
    "## Conclusion "
   ]
  },
  {
   "cell_type": "markdown",
   "metadata": {},
   "source": [
    "Judged by a human eye there is no difference between the three methods - the needles and values are jumping back and forth as always!"
   ]
  },
  {
   "cell_type": "markdown",
   "metadata": {},
   "source": [
    "The difference will come apparent when we want to eliminate that jumping by applying some statistical and continuous algorithms on the received time series data. The accuracy of the time stamps is, of course important for any time series analysis."
   ]
  },
  {
   "cell_type": "markdown",
   "metadata": {},
   "source": [
    "1. It is not surprising that the direct TCP connection to the Signal K emitted delta values is the most efficient what comes to the accuracy of the timestamps - they are set at the reception, _i.e._ at the closest possible position to the source. Although this method is penalized having to transmit also information in its payload to which we are not necessarily willing to be subscribed, the fact that the timestamp travels with the data compensates that inconvenience."
   ]
  },
  {
   "cell_type": "markdown",
   "metadata": {},
   "source": [
    "2. The fact that there is so little difference between the timestamp accuracy through the Signal K to NMEA conversion and its actual delta channel is a proof of the excellent quality and effiency of Signal K and npm. Also, the TCP method of OpenCPN is the preferred one since apparently well implemented."
   ]
  },
  {
   "cell_type": "markdown",
   "metadata": {},
   "source": [
    "3. There is nothing to gain by eliminating Signal K to allow the OpenCPN to connect directly to the USB channel: this is the clearly the less desirable configuration for any algorithm which analyzes time series."
   ]
  },
  {
   "cell_type": "markdown",
   "metadata": {},
   "source": [
    "Finally, the best improvement in this particular case would be to increase the sampling rate, which is, admittely, ridicuosly slow."
   ]
  }
 ],
 "metadata": {
  "kernelspec": {
   "display_name": "Python 3",
   "language": "python",
   "name": "python3"
  },
  "language_info": {
   "codemirror_mode": {
    "name": "ipython",
    "version": 3
   },
   "file_extension": ".py",
   "mimetype": "text/x-python",
   "name": "python",
   "nbconvert_exporter": "python",
   "pygments_lexer": "ipython3",
   "version": "3.7.4"
  }
 },
 "nbformat": 4,
 "nbformat_minor": 4
}

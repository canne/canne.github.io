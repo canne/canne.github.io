{
 "cells": [
  {
   "cell_type": "markdown",
   "metadata": {},
   "source": [
    "# Streaming to InfluxDB 2.0 HTTP server"
   ]
  },
  {
   "cell_type": "markdown",
   "metadata": {},
   "source": [
    "Like explained in _Dashboard-Tactics InfluxDB 2.0 Streamer - User's Guide_ ([ipynb](InfluxDBStreamer.ipynb) | [html](InfluxDBStreamer.html) | [pdf](InfluxDBStreamer.pdf))  the easiest way to get data into an InfluxDB 2.0 server is to create and capture a massive text data file, called Line Protocol file and then import it using InfluxDB 2.0 UI function for the bucket data import. "
   ]
  },
  {
   "cell_type": "markdown",
   "metadata": {},
   "source": [
    "The static method applied only when back home does not, however allow to use the powerful functions of InfluxDB 2.0 on the time series data, such as filtering, averaging, monitoring, observing the tendency and so forth. "
   ]
  },
  {
   "cell_type": "markdown",
   "metadata": {},
   "source": [
    "You are familiar with the wind history instrument in Dashboard-Tactics. Well, this is the same but in steroids! By directly connecting Dashboard-Tactics with InfluxDB 2.0 server allows you to have similar functions on **all** data which is received (or produced) byt Dashboard-Tactics!"
   ]
  },
  {
   "cell_type": "markdown",
   "metadata": {},
   "source": [
    "## InfluxDB 2.0 Dashboards"
   ]
  },
  {
   "cell_type": "markdown",
   "metadata": {},
   "source": [
    "To motivate you, let's skip to the result - what we want is a collection of key data which we want to follow in real-time. In InfluxDB 2.0, they are called _Dashboards_. Basically, you create a query to capture from the incoming time sequenced data stream the data you want to observe in time, **optionally applying filters, algorithms or mathematical functions on the time series data**. Once you are satisfied, you would save your work as a cell in an InfluxDB 2.0 Dashboard. This screenshot gives you an idea what to expect (raw data is shown):"
   ]
  },
  {
   "cell_type": "markdown",
   "metadata": {},
   "source": [
    "![2019-08-24_201932_InfluxOut_Dashboard_and_3cells.png](2019-08-24_201932_InfluxOut_Dashboard_and_3cells.png) [(zoom)](img/2019-08-24_201932_InfluxOut_Dashboard_and_3cells.png)"
   ]
  },
  {
   "cell_type": "markdown",
   "metadata": {},
   "source": [
    "> Isn't it curious how _much_ the raw values are jumping up and down. Can't we do something for it?"
   ]
  },
  {
   "cell_type": "markdown",
   "metadata": {},
   "source": [
    "You're already hooked! Let's see how to get things running, first."
   ]
  },
  {
   "cell_type": "markdown",
   "metadata": {},
   "source": [
    "## Installing InfluxDB 2.0 server on your navigation computer with Docker"
   ]
  },
  {
   "cell_type": "markdown",
   "metadata": {},
   "source": [
    "If you have just one navigation computer and not a networked cluster of computers in your boat, you need to install the InfluxDB 2.0 server on your navigation computer where the Dashboard-Tactics is sitting together with OpenCPN. It is likely that your computer is Windows, so let's use that as an example, there is not much difference for Linux: we are going to use so called container method.I "
   ]
  },
  {
   "cell_type": "markdown",
   "metadata": {},
   "source": [
    "### Install Docker"
   ]
  },
  {
   "cell_type": "markdown",
   "metadata": {},
   "source": [
    "You need a [Docker desktop](https://www.docker.com/products/docker-desktop).  It is quite big chunk to download, a decent speed link is needed. [Read more about the installation](https://docs.docker.com/docker-for-windows/install/)."
   ]
  },
  {
   "cell_type": "markdown",
   "metadata": {},
   "source": [
    "Once installed, Docker is not that hungry any more to eat the rest of your disk space; here's mine reporting about the disk consumption, after running some extensive data input tests with InfluxDB 2.0 in a container:"
   ]
  },
  {
   "cell_type": "markdown",
   "metadata": {},
   "source": [
    "```\n",
    "> docker system df\n",
    "TYPE                TOTAL               ACTIVE              SIZE\n",
    "RECLAIMABLE\n",
    "Images              1                   1                   176.5MB\n",
    "0B (0%)\n",
    "Containers          3                   1                   68.53MB\n",
    "33.59MB (49%)\n",
    "Local Volumes       1                   0                   36.09MB\n",
    "36.09MB (100%)\n",
    "Build Cache         0                   0                   0B\n",
    "```"
   ]
  },
  {
   "cell_type": "markdown",
   "metadata": {},
   "source": [
    "### Install InfluxDB 2.0 container image and launch it "
   ]
  },
  {
   "cell_type": "markdown",
   "metadata": {},
   "source": [
    "[InfluxDB 2.0 download page](https://portal.influxdata.com/downloads/) give you this simple command to execute with docker:"
   ]
  },
  {
   "cell_type": "markdown",
   "metadata": {},
   "source": [
    "`docker pull quay.io/influxdb/influxdb:2.0.0-alpha`"
   ]
  },
  {
   "cell_type": "markdown",
   "metadata": {},
   "source": [
    "Yes, currently when this is written it is still alpha (version 14 to be exact) but it is totally usable. Installation is dead easy, launching it will be done by precising on which port InfluxDB 2.0 should serve HTTP:"
   ]
  },
  {
   "cell_type": "markdown",
   "metadata": {},
   "source": [
    "`docker run --name influxdb --restart=unless-stopped -p 9999:9999 quay.io/influxdb/influxdb:2.0.0-alpha`"
   ]
  },
  {
   "cell_type": "markdown",
   "metadata": {},
   "source": [
    "Open your browser with address http://localhost:9999 and let you guide through the welcome. Make sure that you don't give too complicated user name and password - this is local and unprotected HTTP anyway and you would be annoyed with too much typing since yes, there is a timeout for a session!"
   ]
  },
  {
   "cell_type": "markdown",
   "metadata": {},
   "source": [
    "### Important! Synchronize your clocks"
   ]
  },
  {
   "cell_type": "markdown",
   "metadata": {},
   "source": [
    "You can imagine that the need for good timekeeping both on client side and on the DB server side is essential. This is not normally an issue but in your computer, probably having Hyper-V virtualization support, any power save state will stop the hardware clock of the container as well. Clock drift will occur."
   ]
  },
  {
   "cell_type": "markdown",
   "metadata": {},
   "source": [
    "Write this simple Windows PowerShell script in a file and give it a name like setClockInfluxDbDocker.ps1 :"
   ]
  },
  {
   "cell_type": "markdown",
   "metadata": {},
   "source": [
    "```\n",
    "# A PowerShell Script to set the InfluxDB container time to the time obtained from the host\n",
    "# courtesy to\n",
    "# https://forums.docker.com/t/docker-for-windows-should-resync-vm-time-when-computer-resumes-from-sleep/17825/19\n",
    "\n",
    "$influxImgName = \"quay.io/influxdb/influxdb:2.0.0-alpha\"\n",
    "\n",
    "$datetime = Get-Date\n",
    "$dt = $datetime.ToUniversalTime().ToString('yyyy-MM-dd HH:mm:ss')\n",
    "docker run --net=host --ipc=host --uts=host --pid=host --security-opt=seccomp=unconfined --privileged --rm $influxImgName date -s $dt\n",
    "sleep 3\n",
    "```"
   ]
  },
  {
   "cell_type": "markdown",
   "metadata": {},
   "source": [
    "You can create a shortcut to it on Desktop and modify its Target field like this:"
   ]
  },
  {
   "cell_type": "markdown",
   "metadata": {},
   "source": [
    "`C:\\Windows\\System32\\WindowsPowerShell\\v1.0\\powershell.exe -ExecutionPolicy Bypass -File C:\\Users\\<YOU>\\<YOUR_PATH>\\setClockInfluxDbDocker.ps1`"
   ]
  },
  {
   "cell_type": "markdown",
   "metadata": {},
   "source": [
    "The script will read your computer's time and set the container time with it. Small script but saves you a lot of headache if you see your container time drifting!"
   ]
  },
  {
   "cell_type": "markdown",
   "metadata": {},
   "source": [
    "## Prepare InfluxDB Out instrument configuration for HTTP"
   ]
  },
  {
   "cell_type": "markdown",
   "metadata": {},
   "source": [
    "You can find a template `streamout_template_http.json` from `C:\\Program Files (x86)\\OpenCPN\\plugins\\dashboard_tactics_pi\\data`"
   ]
  },
  {
   "cell_type": "markdown",
   "metadata": {},
   "source": [
    "Copy (keep the original) it to the run-time data directory `C:\\ProgramData\\opencpn\\plugins\\dashoard_tactics_pi` which exists if you have already tried the writing to the InfluxDB 2.0 Line protocol file. It is better to give it a differen name than the default one, let's use `streamout-http.json`."
   ]
  },
  {
   "cell_type": "markdown",
   "metadata": {},
   "source": [
    "You can modify the `opencpn.ini` file and give the new configuration file name to be used like this:"
   ]
  },
  {
   "cell_type": "markdown",
   "metadata": {},
   "source": [
    "`[PlugIns/Dashboard/Tactics/Streamout]\n",
    "ConfigFile=streamout-http.json`"
   ]
  },
  {
   "cell_type": "markdown",
   "metadata": {},
   "source": [
    "> If you do not have that value, you need to start at least once an InfluxDB Out Tactics \"instrument\"."
   ]
  },
  {
   "cell_type": "markdown",
   "metadata": {},
   "source": [
    "Modify `streamout-http.json` file to contain your connection parameters:"
   ]
  },
  {
   "cell_type": "markdown",
   "metadata": {},
   "source": [
    "```\n",
    "        \"org\"       : \"myorg\",          // HTTP: Influx DB organization name\n",
    "```"
   ]
  },
  {
   "cell_type": "markdown",
   "metadata": {},
   "source": [
    "You have seleced an organization (boat?) name in InfluxDB 2.0. Type it here in place of `myorg` - exactly as you defined it in InfluxDB 2.0 UI."
   ]
  },
  {
   "cell_type": "markdown",
   "metadata": {},
   "source": [
    "```\n",
    "        \"bucket\"    : \"mybucket\",       // HTTP: Influx DB bucket to write ```"
   ]
  },
  {
   "cell_type": "markdown",
   "metadata": {},
   "source": [
    "Data is written in buckets of InfluxDB 2.0. Create one and give its exact name here."
   ]
  },
  {
   "cell_type": "markdown",
   "metadata": {},
   "source": [
    "```\n",
    "        \"token\"     : \"ToLdk3DNs3PqbKNS2hdZMure......E0eu4lE0OUWRt8w==\"\n",
    "```"
   ]
  },
  {
   "cell_type": "markdown",
   "metadata": {},
   "source": [
    "Tokens are unique, per each server, and even per each bucket in it. Gp to Tokens-tab in Settings of InfluxDB 2.0 UI and generate one. Copy the new token into clipboard and past it between string quotes. Do not allow a carriage return, it must be a single string."
   ]
  },
  {
   "cell_type": "markdown",
   "metadata": {},
   "source": [
    "Now you are ready to try. But if it does not work? There is debugging information available in OpenCPN log file. But you must turn the debugging on in the configuration file:"
   ]
  },
  {
   "cell_type": "markdown",
   "metadata": {},
   "source": [
    "`\"verbosity\"       : 3            // 0=quiet,1=events,2=verbose,3+=debug`"
   ]
  },
  {
   "cell_type": "markdown",
   "metadata": {},
   "source": [
    "Don't leave debugging on once the issue is resolved, it can be quite verbose."
   ]
  },
  {
   "cell_type": "markdown",
   "metadata": {},
   "source": [
    "## Try it out in the InfluxDB 2.0 Data Explorer"
   ]
  },
  {
   "cell_type": "markdown",
   "metadata": {},
   "source": [
    "Data Explorer allows you to build your queries, which you can save as Dashboard cells, as explained above. But you can use it also to test the incoming data by switching between the graphical and raw data mode."
   ]
  },
  {
   "cell_type": "markdown",
   "metadata": {},
   "source": [
    "Set the data period to be last 5 minutes and ask data to be queried every 5 seconds. This gives you pretty good insight of what data is coming in."
   ]
  },
  {
   "cell_type": "markdown",
   "metadata": {},
   "source": [
    "And what data is coming in?"
   ]
  },
  {
   "cell_type": "markdown",
   "metadata": {},
   "source": [
    "You can observe it best by looking at available measurement types, their metadata (tags) and the actual field names. Using the query builder, browse through the available filters so that you end up to select one value, or few values who have something in common and, preferably, similar data range:"
   ]
  },
  {
   "cell_type": "markdown",
   "metadata": {},
   "source": [
    "![2019-08-24_195607_InfluxOut_DataExplorer_HTTP.png](2019-08-24_195607_InfluxOut_DataExplorer_HTTP.png) [(zoom)](img/2019-08-24_195607_InfluxOut_DataExplorer_HTTP.png)"
   ]
  }
 ],
 "metadata": {
  "kernelspec": {
   "display_name": "Python 3",
   "language": "python",
   "name": "python3"
  },
  "language_info": {
   "codemirror_mode": {
    "name": "ipython",
    "version": 3
   },
   "file_extension": ".py",
   "mimetype": "text/x-python",
   "name": "python",
   "nbconvert_exporter": "python",
   "pygments_lexer": "ipython3",
   "version": "3.7.4"
  }
 },
 "nbformat": 4,
 "nbformat_minor": 4
}
